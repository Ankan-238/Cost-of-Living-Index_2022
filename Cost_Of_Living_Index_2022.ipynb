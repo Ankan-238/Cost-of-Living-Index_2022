{
  "nbformat": 4,
  "nbformat_minor": 0,
  "metadata": {
    "colab": {
      "name": "Cost Of Living Index 2022",
      "provenance": [],
      "collapsed_sections": []
    },
    "kernelspec": {
      "name": "python3",
      "display_name": "Python 3"
    },
    "language_info": {
      "name": "python"
    }
  },
  "cells": [
    {
      "cell_type": "code",
      "execution_count": null,
      "metadata": {
        "id": "x773rmDfOeU_",
        "colab": {
          "base_uri": "https://localhost:8080/"
        },
        "outputId": "9c1c8329-588f-434a-aac2-32233ea3fea6"
      },
      "outputs": [
        {
          "output_type": "stream",
          "name": "stdout",
          "text": [
            "Looking in indexes: https://pypi.org/simple, https://us-python.pkg.dev/colab-wheels/public/simple/\n",
            "Collecting PySpark\n",
            "  Downloading pyspark-3.2.1.tar.gz (281.4 MB)\n",
            "\u001b[K     |████████████████████████████████| 281.4 MB 35 kB/s \n",
            "\u001b[?25hCollecting py4j==0.10.9.3\n",
            "  Downloading py4j-0.10.9.3-py2.py3-none-any.whl (198 kB)\n",
            "\u001b[K     |████████████████████████████████| 198 kB 44.4 MB/s \n",
            "\u001b[?25hBuilding wheels for collected packages: PySpark\n",
            "  Building wheel for PySpark (setup.py) ... \u001b[?25l\u001b[?25hdone\n",
            "  Created wheel for PySpark: filename=pyspark-3.2.1-py2.py3-none-any.whl size=281853642 sha256=b19878cbd0c87002bba13312f876ee3e4c87bf4246b3988d87cc65e0c4c3b766\n",
            "  Stored in directory: /root/.cache/pip/wheels/9f/f5/07/7cd8017084dce4e93e84e92efd1e1d5334db05f2e83bcef74f\n",
            "Successfully built PySpark\n",
            "Installing collected packages: py4j, PySpark\n",
            "Successfully installed PySpark-3.2.1 py4j-0.10.9.3\n"
          ]
        }
      ],
      "source": [
        "!pip install PySpark"
      ]
    },
    {
      "cell_type": "code",
      "source": [
        "import pyspark"
      ],
      "metadata": {
        "id": "moxhHz1o7pn1"
      },
      "execution_count": null,
      "outputs": []
    },
    {
      "cell_type": "code",
      "source": [
        "from pyspark.sql import SparkSession\n",
        "spark= SparkSession.builder.appName('CostofLiving').getOrCreate()"
      ],
      "metadata": {
        "id": "59XiY3Ku7f8x"
      },
      "execution_count": null,
      "outputs": []
    },
    {
      "cell_type": "code",
      "source": [
        "df_train= spark.read.csv(\"/content/Cost_of_Living_Index_2022.csv\", header=True, inferSchema=True)\n",
        "df_train.show()"
      ],
      "metadata": {
        "colab": {
          "base_uri": "https://localhost:8080/"
        },
        "id": "tAIzquxqUD93",
        "outputId": "81808ac9-6667-4717-c8e3-205b892d3592"
      },
      "execution_count": null,
      "outputs": [
        {
          "output_type": "stream",
          "name": "stdout",
          "text": [
            "+----+--------------------+--------------------+----------+------------------------------+---------------+----------------------+----------------------------+\n",
            "|Rank|             Country|Cost of Living Index|Rent Index|Cost of Living Plus Rent Index|Groceries Index|Restaurant Price Index|Local Purchasing Power Index|\n",
            "+----+--------------------+--------------------+----------+------------------------------+---------------+----------------------+----------------------------+\n",
            "|   1|         Afghanistan|               20.37|      2.72|                         12.09|          14.92|                 12.41|                       23.04|\n",
            "|   2|             Albania|                35.5|      8.47|                         22.83|          29.32|                 25.82|                       30.19|\n",
            "|   3|             Algeria|               26.87|      4.59|                         16.43|          28.82|                 14.48|                       24.63|\n",
            "|   4|           Argentina|               34.69|      7.71|                         22.04|          28.17|                 33.32|                       30.72|\n",
            "|   5|             Armenia|               33.89|     11.61|                         23.45|          27.59|                 30.55|                       28.86|\n",
            "|   6|           Australia|               77.75|     36.84|                         58.57|          77.44|                 72.95|                      104.63|\n",
            "|   7|             Austria|               71.04|     27.13|                         50.46|          65.88|                 66.03|                       77.25|\n",
            "|   8|          Azerbaijan|               29.73|      7.86|                         19.48|          26.57|                 26.73|                       27.26|\n",
            "|   9|             Bahamas|                84.0|     35.34|                         61.19|          70.59|                 89.09|                       45.07|\n",
            "|  10|             Bahrain|               54.77|     29.22|                         42.79|          44.59|                 48.94|                       61.41|\n",
            "|  11|          Bangladesh|               33.13|      4.42|                         19.67|          30.41|                  21.7|                        25.3|\n",
            "|  12|            Barbados|               92.37|     21.99|                         59.38|          87.81|                 78.18|                       32.08|\n",
            "|  13|             Belarus|               30.89|      9.81|                         21.01|          27.24|                 31.64|                       31.78|\n",
            "|  14|             Belgium|               72.61|     25.79|                         50.67|          63.32|                 78.63|                       79.72|\n",
            "|  15|              Belize|                51.3|     11.64|                         32.71|          48.76|                  36.6|                       45.73|\n",
            "|  16|             Bermuda|              146.04|     98.58|                         123.8|         148.66|                159.17|                       81.07|\n",
            "|  17|             Bolivia|               34.77|     10.18|                         23.24|          31.26|                 24.97|                       36.04|\n",
            "|  18|Bosnia And Herzeg...|               36.12|      6.82|                         22.39|          31.14|                 25.34|                        44.1|\n",
            "|  19|            Botswana|               40.17|     10.21|                         26.12|          35.16|                  42.5|                       62.63|\n",
            "|  20|              Brazil|               33.24|      8.27|                         21.54|          28.16|                 25.24|                       27.85|\n",
            "+----+--------------------+--------------------+----------+------------------------------+---------------+----------------------+----------------------------+\n",
            "only showing top 20 rows\n",
            "\n"
          ]
        }
      ]
    },
    {
      "cell_type": "code",
      "source": [
        "df_train.printSchema()"
      ],
      "metadata": {
        "colab": {
          "base_uri": "https://localhost:8080/"
        },
        "id": "Uxx_3ncP8q4A",
        "outputId": "3f5e053d-c857-4f6f-cb95-ee1ba4c5cc7f"
      },
      "execution_count": null,
      "outputs": [
        {
          "output_type": "stream",
          "name": "stdout",
          "text": [
            "root\n",
            " |-- Rank: integer (nullable = true)\n",
            " |-- Country: string (nullable = true)\n",
            " |-- Cost of Living Index: double (nullable = true)\n",
            " |-- Rent Index: double (nullable = true)\n",
            " |-- Cost of Living Plus Rent Index: double (nullable = true)\n",
            " |-- Groceries Index: double (nullable = true)\n",
            " |-- Restaurant Price Index: double (nullable = true)\n",
            " |-- Local Purchasing Power Index: double (nullable = true)\n",
            "\n"
          ]
        }
      ]
    },
    {
      "cell_type": "code",
      "source": [
        "df_train.columns"
      ],
      "metadata": {
        "id": "L51nQ3nq91tW",
        "colab": {
          "base_uri": "https://localhost:8080/"
        },
        "outputId": "35b49d23-ade4-4d96-d20d-383f43ddce4f"
      },
      "execution_count": null,
      "outputs": [
        {
          "output_type": "execute_result",
          "data": {
            "text/plain": [
              "['Rank',\n",
              " 'Country',\n",
              " 'Cost of Living Index',\n",
              " 'Rent Index',\n",
              " 'Cost of Living Plus Rent Index',\n",
              " 'Groceries Index',\n",
              " 'Restaurant Price Index',\n",
              " 'Local Purchasing Power Index']"
            ]
          },
          "metadata": {},
          "execution_count": 8
        }
      ]
    },
    {
      "cell_type": "markdown",
      "source": [
        "[Rent Index, Cost of Living Plus Rent Index, Groceries Index, Restaurant Price Index, Local Purchasing Power Index]--> new feature--> independant feature"
      ],
      "metadata": {
        "id": "2ccqv7dwavbl"
      }
    },
    {
      "cell_type": "code",
      "source": [
        "from pyspark.ml.feature import VectorAssembler\n",
        "featureassembler=VectorAssembler(inputCols=['Rent Index','Cost of Living Plus Rent Index','Groceries Index','Restaurant Price Index','Local Purchasing Power Index'], outputCol='Independant Features')"
      ],
      "metadata": {
        "id": "iR7KjrvZa39q"
      },
      "execution_count": null,
      "outputs": []
    },
    {
      "cell_type": "code",
      "source": [
        "output=featureassembler.transform(df_train)"
      ],
      "metadata": {
        "id": "Ttlizo72VVLz"
      },
      "execution_count": null,
      "outputs": []
    },
    {
      "cell_type": "code",
      "source": [
        "output.show()"
      ],
      "metadata": {
        "colab": {
          "base_uri": "https://localhost:8080/"
        },
        "id": "yUR2NIOvV6Kg",
        "outputId": "e385d140-2540-4478-85e7-9ac51e7bcbc9"
      },
      "execution_count": null,
      "outputs": [
        {
          "output_type": "stream",
          "name": "stdout",
          "text": [
            "+----+--------------------+--------------------+----------+------------------------------+---------------+----------------------+----------------------------+--------------------+\n",
            "|Rank|             Country|Cost of Living Index|Rent Index|Cost of Living Plus Rent Index|Groceries Index|Restaurant Price Index|Local Purchasing Power Index|Independant Features|\n",
            "+----+--------------------+--------------------+----------+------------------------------+---------------+----------------------+----------------------------+--------------------+\n",
            "|   1|         Afghanistan|               20.37|      2.72|                         12.09|          14.92|                 12.41|                       23.04|[2.72,12.09,14.92...|\n",
            "|   2|             Albania|                35.5|      8.47|                         22.83|          29.32|                 25.82|                       30.19|[8.47,22.83,29.32...|\n",
            "|   3|             Algeria|               26.87|      4.59|                         16.43|          28.82|                 14.48|                       24.63|[4.59,16.43,28.82...|\n",
            "|   4|           Argentina|               34.69|      7.71|                         22.04|          28.17|                 33.32|                       30.72|[7.71,22.04,28.17...|\n",
            "|   5|             Armenia|               33.89|     11.61|                         23.45|          27.59|                 30.55|                       28.86|[11.61,23.45,27.5...|\n",
            "|   6|           Australia|               77.75|     36.84|                         58.57|          77.44|                 72.95|                      104.63|[36.84,58.57,77.4...|\n",
            "|   7|             Austria|               71.04|     27.13|                         50.46|          65.88|                 66.03|                       77.25|[27.13,50.46,65.8...|\n",
            "|   8|          Azerbaijan|               29.73|      7.86|                         19.48|          26.57|                 26.73|                       27.26|[7.86,19.48,26.57...|\n",
            "|   9|             Bahamas|                84.0|     35.34|                         61.19|          70.59|                 89.09|                       45.07|[35.34,61.19,70.5...|\n",
            "|  10|             Bahrain|               54.77|     29.22|                         42.79|          44.59|                 48.94|                       61.41|[29.22,42.79,44.5...|\n",
            "|  11|          Bangladesh|               33.13|      4.42|                         19.67|          30.41|                  21.7|                        25.3|[4.42,19.67,30.41...|\n",
            "|  12|            Barbados|               92.37|     21.99|                         59.38|          87.81|                 78.18|                       32.08|[21.99,59.38,87.8...|\n",
            "|  13|             Belarus|               30.89|      9.81|                         21.01|          27.24|                 31.64|                       31.78|[9.81,21.01,27.24...|\n",
            "|  14|             Belgium|               72.61|     25.79|                         50.67|          63.32|                 78.63|                       79.72|[25.79,50.67,63.3...|\n",
            "|  15|              Belize|                51.3|     11.64|                         32.71|          48.76|                  36.6|                       45.73|[11.64,32.71,48.7...|\n",
            "|  16|             Bermuda|              146.04|     98.58|                         123.8|         148.66|                159.17|                       81.07|[98.58,123.8,148....|\n",
            "|  17|             Bolivia|               34.77|     10.18|                         23.24|          31.26|                 24.97|                       36.04|[10.18,23.24,31.2...|\n",
            "|  18|Bosnia And Herzeg...|               36.12|      6.82|                         22.39|          31.14|                 25.34|                        44.1|[6.82,22.39,31.14...|\n",
            "|  19|            Botswana|               40.17|     10.21|                         26.12|          35.16|                  42.5|                       62.63|[10.21,26.12,35.1...|\n",
            "|  20|              Brazil|               33.24|      8.27|                         21.54|          28.16|                 25.24|                       27.85|[8.27,21.54,28.16...|\n",
            "+----+--------------------+--------------------+----------+------------------------------+---------------+----------------------+----------------------------+--------------------+\n",
            "only showing top 20 rows\n",
            "\n"
          ]
        }
      ]
    },
    {
      "cell_type": "code",
      "source": [
        "output.columns"
      ],
      "metadata": {
        "colab": {
          "base_uri": "https://localhost:8080/"
        },
        "id": "HjSAdPhNV6Gf",
        "outputId": "f68691a6-2d17-421e-dd50-10cdea3cd82f"
      },
      "execution_count": null,
      "outputs": [
        {
          "output_type": "execute_result",
          "data": {
            "text/plain": [
              "['Rank',\n",
              " 'Country',\n",
              " 'Cost of Living Index',\n",
              " 'Rent Index',\n",
              " 'Cost of Living Plus Rent Index',\n",
              " 'Groceries Index',\n",
              " 'Restaurant Price Index',\n",
              " 'Local Purchasing Power Index',\n",
              " 'Independant Features']"
            ]
          },
          "metadata": {},
          "execution_count": 18
        }
      ]
    },
    {
      "cell_type": "code",
      "source": [
        "fin_output= output.select(\"Independant Features\", \"Cost of Living Index\")"
      ],
      "metadata": {
        "id": "XWaEosWaV6Cm"
      },
      "execution_count": null,
      "outputs": []
    },
    {
      "cell_type": "code",
      "source": [
        "fin_output.show()"
      ],
      "metadata": {
        "colab": {
          "base_uri": "https://localhost:8080/"
        },
        "id": "Kn1VP2LEV53L",
        "outputId": "04a7de89-b56d-4e9c-a479-d3851751e7a7"
      },
      "execution_count": null,
      "outputs": [
        {
          "output_type": "stream",
          "name": "stdout",
          "text": [
            "+--------------------+--------------------+\n",
            "|Independant Features|Cost of Living Index|\n",
            "+--------------------+--------------------+\n",
            "|[2.72,12.09,14.92...|               20.37|\n",
            "|[8.47,22.83,29.32...|                35.5|\n",
            "|[4.59,16.43,28.82...|               26.87|\n",
            "|[7.71,22.04,28.17...|               34.69|\n",
            "|[11.61,23.45,27.5...|               33.89|\n",
            "|[36.84,58.57,77.4...|               77.75|\n",
            "|[27.13,50.46,65.8...|               71.04|\n",
            "|[7.86,19.48,26.57...|               29.73|\n",
            "|[35.34,61.19,70.5...|                84.0|\n",
            "|[29.22,42.79,44.5...|               54.77|\n",
            "|[4.42,19.67,30.41...|               33.13|\n",
            "|[21.99,59.38,87.8...|               92.37|\n",
            "|[9.81,21.01,27.24...|               30.89|\n",
            "|[25.79,50.67,63.3...|               72.61|\n",
            "|[11.64,32.71,48.7...|                51.3|\n",
            "|[98.58,123.8,148....|              146.04|\n",
            "|[10.18,23.24,31.2...|               34.77|\n",
            "|[6.82,22.39,31.14...|               36.12|\n",
            "|[10.21,26.12,35.1...|               40.17|\n",
            "|[8.27,21.54,28.16...|               33.24|\n",
            "+--------------------+--------------------+\n",
            "only showing top 20 rows\n",
            "\n"
          ]
        }
      ]
    },
    {
      "cell_type": "code",
      "source": [
        "from pyspark.ml.regression import LinearRegression\n",
        "\n",
        "#train_test_split\n",
        "train_X, test_X= fin_output.randomSplit([0.8, 0.2])\n",
        "reg=LinearRegression(featuresCol='Independant Features', labelCol='Cost of Living Index')\n",
        "reg=reg.fit(train_X)"
      ],
      "metadata": {
        "id": "Or4tp0OzW9rp"
      },
      "execution_count": null,
      "outputs": []
    },
    {
      "cell_type": "code",
      "source": [
        "reg.coefficients"
      ],
      "metadata": {
        "colab": {
          "base_uri": "https://localhost:8080/"
        },
        "id": "mk1B2PMiW9nb",
        "outputId": "05c7a690-2865-4576-9a48-ff72424f7b5f"
      },
      "execution_count": null,
      "outputs": [
        {
          "output_type": "execute_result",
          "data": {
            "text/plain": [
              "DenseVector([-0.8826, 1.8829, -0.0002, -0.0002, 0.0])"
            ]
          },
          "metadata": {},
          "execution_count": 24
        }
      ]
    },
    {
      "cell_type": "code",
      "source": [
        "reg.intercept"
      ],
      "metadata": {
        "colab": {
          "base_uri": "https://localhost:8080/"
        },
        "id": "fmGpLvaMW9jW",
        "outputId": "8e65f60f-d7c3-4714-afcb-886cd4f5bc61"
      },
      "execution_count": null,
      "outputs": [
        {
          "output_type": "execute_result",
          "data": {
            "text/plain": [
              "-0.0016730770361358613"
            ]
          },
          "metadata": {},
          "execution_count": 26
        }
      ]
    },
    {
      "cell_type": "code",
      "source": [
        "pred=reg.evaluate(test_X)"
      ],
      "metadata": {
        "id": "BCyQG7pOW9fW"
      },
      "execution_count": null,
      "outputs": []
    },
    {
      "cell_type": "code",
      "source": [
        "pred.predictions.show()"
      ],
      "metadata": {
        "colab": {
          "base_uri": "https://localhost:8080/"
        },
        "id": "mhJ76nUCW9bt",
        "outputId": "eabb1c26-c035-4319-adc6-59d5064de753"
      },
      "execution_count": null,
      "outputs": [
        {
          "output_type": "stream",
          "name": "stderr",
          "text": [
            "/usr/local/lib/python3.7/dist-packages/pyspark/sql/context.py:127: FutureWarning: Deprecated in 3.0.0. Use SparkSession.builder.getOrCreate() instead.\n",
            "  FutureWarning\n"
          ]
        },
        {
          "output_type": "stream",
          "name": "stdout",
          "text": [
            "+--------------------+--------------------+------------------+\n",
            "|Independant Features|Cost of Living Index|        prediction|\n",
            "+--------------------+--------------------+------------------+\n",
            "|[5.16,20.79,39.39...|               34.58| 34.58010535256983|\n",
            "|[5.17,17.7,29.34,...|               28.75|28.754803369013008|\n",
            "|[6.06,19.51,26.95...|               31.38| 31.37848931361419|\n",
            "|[6.71,31.38,67.12...|               53.14| 53.14780832759208|\n",
            "|[7.71,22.04,28.17...|               34.69| 34.68378135361256|\n",
            "|[8.23,20.48,37.67...|               31.29| 31.28825592200255|\n",
            "|[8.27,21.54,28.16...|               33.24| 33.24923405196607|\n",
            "|[9.26,20.37,26.44...|               30.18|30.172358298693204|\n",
            "|[10.63,23.29,30.4...|               34.47|  34.4607514786483|\n",
            "|[11.22,22.54,30.7...|               32.53| 32.52858355243898|\n",
            "|[11.22,23.72,36.1...|               34.74|34.749322073625194|\n",
            "|[11.28,25.12,34.4...|               37.34| 37.33194956013131|\n",
            "|[13.38,32.27,41.9...|               48.94| 48.93843818590621|\n",
            "|[14.45,27.46,32.4...|               38.95| 38.94011131274866|\n",
            "|[14.69,29.84,45.1...|               43.21| 43.20879984938194|\n",
            "|[15.6,30.42,41.92...|               43.49| 43.49658355688592|\n",
            "|[16.53,29.93,46.0...|               41.77| 41.75374076825487|\n",
            "|[17.05,27.85,29.4...|               37.39| 37.38058758246509|\n",
            "|[17.76,31.26,48.0...|               43.16|43.170261240838315|\n",
            "|[17.9,37.01,47.71...|               53.88| 53.87247840370463|\n",
            "+--------------------+--------------------+------------------+\n",
            "only showing top 20 rows\n",
            "\n"
          ]
        }
      ]
    },
    {
      "cell_type": "code",
      "source": [
        "pred.meanAbsoluteError, pred.meanSquaredError"
      ],
      "metadata": {
        "colab": {
          "base_uri": "https://localhost:8080/"
        },
        "id": "f-S6sBkKW9Wc",
        "outputId": "dd09420c-7add-4394-cc1a-13efc4d8613f"
      },
      "execution_count": null,
      "outputs": [
        {
          "output_type": "execute_result",
          "data": {
            "text/plain": [
              "(0.006794445607992472, 6.469058712473957e-05)"
            ]
          },
          "metadata": {},
          "execution_count": 29
        }
      ]
    }
  ]
}